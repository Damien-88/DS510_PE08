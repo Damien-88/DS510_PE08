{
  "cells": [
    {
      "cell_type": "markdown",
      "metadata": {
        "id": "-HeFAkO16ODW"
      },
      "source": [
        "Environment Setup"
      ]
    },
    {
      "cell_type": "code",
      "execution_count": 1,
      "metadata": {
        "id": "811WLOy96Aot"
      },
      "outputs": [],
      "source": [
        "# 1. Import Libraries\n",
        "import numpy as np\n",
        "from random import randint"
      ]
    },
    {
      "cell_type": "markdown",
      "metadata": {
        "id": "cvQhhNh16aqk"
      },
      "source": [
        "Build and Train"
      ]
    },
    {
      "cell_type": "code",
      "execution_count": 2,
      "metadata": {
        "id": "vXZdFqUS6dpd"
      },
      "outputs": [],
      "source": [
        "# 2. Define RBM Class\n",
        "class RBM:\n",
        "  # Initialize w/ hidden/visible units and debug to track progress\n",
        "  def __init__(self, num_visible, num_hidden):\n",
        "    self.num_hidden = num_hidden\n",
        "    self.num_visible = num_visible\n",
        "    self.debug_print = True\n",
        "\n",
        "    # Initialize Weights\n",
        "    np_rng = np.random.RandomState(1234)\n",
        "    self.weights = np.asarray(np_rng.uniform(\n",
        "        low = 0.1 * np.sqrt(6. / (num_hidden + num_visible)),\n",
        "        high = 0.1 * np.sqrt(6. / (num_hidden + num_visible)),\n",
        "        size = (num_visible, num_hidden)\n",
        "    ))\n",
        "\n",
        "    self.weights = np.insert(self.weights, 0, 0, axis = 0)\n",
        "    self.weights = np.insert(self.weights, 0, 0, axis = 1)\n",
        "\n",
        "  # Method to train RBM\n",
        "  def train(self, data, max_epochs, learning_rate):\n",
        "    num_examples = data.shape[0]\n",
        "    data = np.insert(data, 0, 1, axis = 1)\n",
        "\n",
        "    # PE08 Alteration Loop for training\n",
        "    for epoch in range(max_epochs):\n",
        "      pos_hidden_activations = np.dot(data, self.weights)\n",
        "      pos_hidden_probs = self._logistic(pos_hidden_activations)\n",
        "      pos_hidden_probs[:, 0] = 1\n",
        "      pos_hidden_states = pos_hidden_probs > np.random.rand(num_examples, self.num_hidden + 1)\n",
        "      pos_associations = np.dot(data.T, pos_hidden_probs)\n",
        "\n",
        "      neg_visible_activations = np.dot(pos_hidden_states, self.weights.T)\n",
        "      neg_visible_probs = self._logistic(neg_visible_activations)\n",
        "      neg_visible_probs[:, 0] = 1\n",
        "      neg_hidden_activations = np.dot(neg_visible_probs, self.weights)\n",
        "      neg_hidden_probs = self._logistic(neg_hidden_activations)\n",
        "      neg_associations = np.dot(neg_visible_probs.T, neg_hidden_probs)\n",
        "\n",
        "      self.weights += learning_rate * ((pos_associations - neg_associations))\n",
        "\n",
        "      error = np.sum((data - neg_visible_probs) ** 2)\n",
        "    # PE08 Alteration Return Negative Visible Probabilities\n",
        "    return neg_visible_probs[:, 1:]\n",
        "\n",
        "  # Method to implement logistic sigmoid activation function\n",
        "  def _logistic(self, x):\n",
        "    return 1.0 / (1 + np.exp(-x)) # Ensures larger pos to 1, neg to 0"
      ]
    },
    {
      "cell_type": "markdown",
      "metadata": {
        "id": "B5V7_aVDBEPQ"
      },
      "source": [
        "Main Function to Run"
      ]
    },
    {
      "cell_type": "code",
      "execution_count": 3,
      "metadata": {
        "id": "0jGHnxS7BIxu"
      },
      "outputs": [],
      "source": [
        "from re import L\n",
        "# 3. Define main function\n",
        "def main():\n",
        "  pt = 0\n",
        "  titles = [\n",
        "      \"24H in Kamba\", \"Lost\", \"Cube Adventures\", \" A Holiday\",\n",
        "      \"Jonathan Brooks\", \"The Melbourne File\", \"WNC Detectives\",\n",
        "      \"Stars\", \"Space L\", \"Zone 77\"\n",
        "  ]\n",
        "\n",
        "  movies_feature_map = np.array([\n",
        "      [1, 1, 0, 0, 1, 1], [1, 1, 0, 1, 1, 1], [1, 0, 0, 0, 0, 1],\n",
        "      [1, 1, 0, 1, 1, 1], [1, 0, 0, 0, 1, 1], [1, 1, 0, 1, 1, 0],\n",
        "      [1, 0, 0, 0, 0, 0], [1, 1, 0, 1, 1, 0], [1, 1, 0, 0, 0, 1],\n",
        "      [1, 0, 0, 1, 1, 1], [1, 1, 0, 0, 0, 0], [1, 0, 0, 1, 1, 1],\n",
        "      [1, 1, 0, 0, 1, 0], [1, 1, 0, 1, 1, 1], [1, 1, 0, 0, 1, 1],\n",
        "  ])\n",
        "\n",
        "  dialog_output = np.zeros((6, 6), dtype = int)\n",
        "  mc = 0\n",
        "  a = \"no\"\n",
        "\n",
        "  if pt == 1:\n",
        "    print(\"Movie likes:\")\n",
        "\n",
        "  while mc < 6:\n",
        "    m = randint(0, 9)\n",
        "    b = randint(0, 1)\n",
        "\n",
        "    if mc < 6 and (a == \"yes\" or b == 1):\n",
        "      if pt == 1:\n",
        "        print(\"title likes:\", titles[m])\n",
        "      for i in range(6):\n",
        "        dialog_output[mc, i] = movies_feature_map[m, i]\n",
        "      mc += 1\n",
        "\n",
        "    if mc >=6:\n",
        "      break\n",
        "\n",
        "  if pt == 1:\n",
        "    print(\"dialog output\", dialog_output)\n",
        "\n",
        "  training_data = dialog_output\n",
        "  r = RBM(num_visible = 6, num_hidden = 2)\n",
        "  max_epochs = 5000\n",
        "  learning_rate = 0.001\n",
        "\n",
        "  # PE08 Alteration train and print reconstructed data\n",
        "  reconstructed = r.train(training_data, max_epochs, learning_rate)\n",
        "  print(f\"Reconstucted: \\n{np.round(reconstructed, 3)}\")\n",
        "  print(f\"\\nReconstructed (Rounded): \\n{np.round(reconstructed)}\")\n",
        "\n",
        "\n",
        "  F = [\"love\", \"happiness\", \"family\", \"horizons\", \"action\", \"violence\"]\n",
        "  f = open(\"features.tsv\", \"a\")\n",
        "  f1 = 0\n",
        "\n",
        "  best1 = 1000\n",
        "  pos = 10\n",
        "  control = 0\n",
        "\n",
        "  if (control == 1):\n",
        "    tcont = 0\n",
        "    control = [0, 0, 0, 0, 0, 0]\n",
        "\n",
        "    for j in range(0, 6):\n",
        "      for i in range(0, 6):\n",
        "        control[i] += dialog_output[j][i]\n",
        "        tcont += dialog_output[j][i]\n",
        "\n",
        "    tcontrol = control\n",
        "\n",
        "    cfi = 0\n",
        "\n",
        "    for b in range(0, 6):\n",
        "      if tcontrol[b] >= tcontrol[cf1]:\n",
        "        cf1 = b\n",
        "\n",
        "    first = 0\n",
        "\n",
        "    for b in range(0, 6):\n",
        "      if b != cf1:\n",
        "        if first == 0:\n",
        "          cf2 = b; first = 1\n",
        "        if first > 0:\n",
        "          if tcontrol[b] >= tcontrol[cf2]:\n",
        "            cf2 = b\n",
        "\n",
        "    totw = 0\n",
        "\n",
        "    for w in range(1, 7):\n",
        "      if w > 0:\n",
        "        print(F[w - 1], \":\", r.weights[w, 0])\n",
        "        per = r.weights[w, 0] + pos\n",
        "        totw += per\n",
        "\n",
        "    if totw <= 0:\n",
        "      totw = 1\n",
        "\n",
        "    for w in range(1, 7):\n",
        "      if w > 0:\n",
        "        per = r.weights[w, 0] + pos\n",
        "        print(\"CONTROL\", F[w - 1], \":\", round(r.weights[w, 0], 3),\n",
        "              totw, round(per / totw, 3))\n",
        "\n",
        "    control = [0, 0, 0, 0, 0, 0]\n",
        "\n",
        "    for j in range(0, 6):\n",
        "      for i in range(0, 6):\n",
        "        control[i] += dialog_output[j][i]\n",
        "\n",
        "  for w in range(1, 7):\n",
        "    if w > 0:\n",
        "      if pt == 1:\n",
        "        print(F[w - 1], \":\", r.weights[w, 0])\n",
        "\n",
        "      tw = r.weights[w, 0] + pos\n",
        "\n",
        "      if tw > best1:\n",
        "        f1 = w - 1\n",
        "        best1 = tw\n",
        "\n",
        "      f.write(str(r.weights[w, 0] + pos) + \"\\t\")\n",
        "\n",
        "  f.write(\"\\n\")\n",
        "  f.close()\n",
        "  f2 = 0\n",
        "\n",
        "  best2 = -1000\n",
        "\n",
        "  for w in range(1, 7):\n",
        "    if w > 0:\n",
        "      tw = r.weights[w, 0] + pos\n",
        "      if tw > best2 and w - 1 != f1:\n",
        "        f2 = w - 1\n",
        "        best2 = tw\n",
        "\n",
        "  u = randint(1, 10000)\n",
        "  vname = \"viewer_\" + str(u)\n",
        "\n",
        "  if pt == 1:\n",
        "    print(\"Control\", control)\n",
        "    print(\"Principal Features: \", vname, f1, f2, \"control\")\n",
        "\n",
        "  f = open(\"labels.tsv\", \"a\")\n",
        "  f.write(vname + \"\\t\" + F[f1] + \"\\t\" + F[f2] + \"\\t\")\n",
        "  f.write(\"\\n\")\n",
        "  f.close()"
      ]
    },
    {
      "cell_type": "markdown",
      "metadata": {
        "id": "eLCj7TN7KoHR"
      },
      "source": [
        "Run RBM"
      ]
    },
    {
      "cell_type": "code",
      "execution_count": 4,
      "metadata": {
        "colab": {
          "base_uri": "https://localhost:8080/"
        },
        "id": "EeoaW10eHp66",
        "outputId": "98ddd9e4-c161-4c70-90ea-f5f6c08af9a7"
      },
      "outputs": [
        {
          "name": "stdout",
          "output_type": "stream",
          "text": [
            "Reconstucted: \n",
            "[[0.992 0.841 0.01  0.67  0.992 0.498]\n",
            " [0.992 0.841 0.01  0.67  0.992 0.498]\n",
            " [0.967 0.769 0.042 0.634 0.967 0.521]\n",
            " [0.992 0.841 0.01  0.67  0.992 0.498]\n",
            " [0.967 0.769 0.042 0.634 0.967 0.521]\n",
            " [0.992 0.841 0.01  0.67  0.992 0.498]]\n",
            "\n",
            "Reconstructed (Rounded): \n",
            "[[1. 1. 0. 1. 1. 0.]\n",
            " [1. 1. 0. 1. 1. 0.]\n",
            " [1. 1. 0. 1. 1. 1.]\n",
            " [1. 1. 0. 1. 1. 0.]\n",
            " [1. 1. 0. 1. 1. 1.]\n",
            " [1. 1. 0. 1. 1. 0.]]\n"
          ]
        }
      ],
      "source": [
        "if __name__ == \"__main__\":\n",
        "  main()"
      ]
    }
  ],
  "metadata": {
    "colab": {
      "provenance": []
    },
    "kernelspec": {
      "display_name": "Python 3",
      "name": "python3"
    },
    "language_info": {
      "codemirror_mode": {
        "name": "ipython",
        "version": 3
      },
      "file_extension": ".py",
      "mimetype": "text/x-python",
      "name": "python",
      "nbconvert_exporter": "python",
      "pygments_lexer": "ipython3",
      "version": "3.13.3"
    }
  },
  "nbformat": 4,
  "nbformat_minor": 0
}
